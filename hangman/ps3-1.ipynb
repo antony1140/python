{
 "cells": [
  {
   "cell_type": "code",
   "execution_count": 1,
   "id": "be6b8236-6db9-4b0c-a0ac-7aeeeb71a281",
   "metadata": {},
   "outputs": [
    {
     "name": "stdout",
     "output_type": "stream",
     "text": [
      "Loading word list from file...\n",
      "   55909 words loaded.\n"
     ]
    }
   ],
   "source": [
    "import random\n",
    "\n",
    "WORDLIST_FILENAME = \"words.txt\"\n",
    "\n",
    "def loadWords():\n",
    "    \"\"\"\n",
    "    Returns a list of valid words. Words are strings of lowercase letters.\n",
    "    \n",
    "    Depending on the size of the word list, this function may\n",
    "    take a while to finish.\n",
    "    \"\"\"\n",
    "    print(\"Loading word list from file...\")\n",
    "    # inFile: file\n",
    "    inFile = open(WORDLIST_FILENAME, 'r')\n",
    "    # line: string\n",
    "    line = inFile.readline()\n",
    "    # wordlist: list of strings\n",
    "    wordlist = line.split()\n",
    "    print(\"  \", len(wordlist), \"words loaded.\")\n",
    "    return wordlist\n",
    "\n",
    "def chooseWord(wordlist):\n",
    "    \"\"\"\n",
    "    wordlist (list): list of words (strings)\n",
    "\n",
    "    Returns a word from wordlist at random\n",
    "    \"\"\"\n",
    "    return random.choice(wordlist)\n",
    "\n",
    "# end of helper code\n",
    "# -----------------------------------\n",
    "\n",
    "# Load the list of words into the variable wordlist\n",
    "# so that it can be accessed from anywhere in the program\n",
    "wordlist = loadWords()"
   ]
  },
  {
   "cell_type": "code",
   "execution_count": null,
   "id": "1443b73e-7b90-4a3d-9387-db6ca5066a0a",
   "metadata": {},
   "outputs": [],
   "source": []
  }
 ],
 "metadata": {
  "kernelspec": {
   "display_name": "Python 3 (ipykernel)",
   "language": "python",
   "name": "python3"
  },
  "language_info": {
   "codemirror_mode": {
    "name": "ipython",
    "version": 3
   },
   "file_extension": ".py",
   "mimetype": "text/x-python",
   "name": "python",
   "nbconvert_exporter": "python",
   "pygments_lexer": "ipython3",
   "version": "3.12.5"
  }
 },
 "nbformat": 4,
 "nbformat_minor": 5
}
